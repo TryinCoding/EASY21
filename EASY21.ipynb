{
  "nbformat": 4,
  "nbformat_minor": 0,
  "metadata": {
    "colab": {
      "provenance": []
    },
    "kernelspec": {
      "name": "python3",
      "display_name": "Python 3"
    },
    "language_info": {
      "name": "python"
    }
  },
  "cells": [
    {
      "cell_type": "code",
      "execution_count": 23,
      "metadata": {
        "id": "zyG3xQnIqwF0"
      },
      "outputs": [],
      "source": [
        "import numpy as np\n",
        "import random"
      ]
    },
    {
      "cell_type": "code",
      "source": [
        "class Card:\n",
        "  def __init__(self,*color):\n",
        "    if len(color) == 1:\n",
        "        self.color = color[0]\n",
        "        self.number = random.choice(range(1,11))\n",
        "    if len(color) == 0:\n",
        "        self.color = random.choices((\"R\",\"B\"),weights=(1/3,2/3))[0]\n",
        "        self.number = random.choice(range(1,11))\n",
        "  def __repr__(self):\n",
        "    return \"%s, %d\" % (self.color,self.number)"
      ],
      "metadata": {
        "id": "n4EZGoNbrsY_"
      },
      "execution_count": 24,
      "outputs": []
    },
    {
      "cell_type": "code",
      "source": [
        "player1 = Card(\"B\")\n",
        "dealer1 = Card(\"B\")\n",
        "\n",
        "game_state = {\n",
        "\"player_cards\" : [player1],\n",
        "\"dealer_cards\" : [dealer1],\n",
        "\"player_sum\" : player1.number,\n",
        "\"dealer_sum\" : dealer1.number,\n",
        "\"turn\" : True,\n",
        "\"terminal\" : False\n",
        "}\n",
        "\n",
        "def env(action):\n",
        "  reward = 0\n",
        "  next_state = [game_state[\"dealer_cards\"][0].number,game_state[\"player_sum\"]]\n",
        "  if game_state[\"turn\"] == True:\n",
        "    # action = str(input())\n",
        "    if action == 'h':\n",
        "      game_state[\"player_cards\"].append(Card())\n",
        "\n",
        "      if game_state[\"player_cards\"][-1].color == \"R\":\n",
        "        game_state[\"player_sum\"] -= game_state[\"player_cards\"][-1].number\n",
        "\n",
        "      if game_state[\"player_cards\"][-1].color == \"B\":\n",
        "        game_state[\"player_sum\"] += game_state[\"player_cards\"][-1].number\n",
        "\n",
        "      next_state[1] = game_state['player_sum']\n",
        "\n",
        "    elif action == 's':\n",
        "      game_state[\"turn\"] = not game_state[\"turn\"]\n",
        "\n",
        "    if(not (game_state[\"player_sum\"]<21 and game_state[\"player_sum\"] >1)):\n",
        "      game_state[\"terminal\"] = True\n",
        "      reward = -1\n",
        "    print(\"player\",game_state[\"player_cards\"],game_state[\"player_sum\"])\n",
        "\n",
        "  else:\n",
        "    if game_state[\"dealer_sum\"] <17:\n",
        "      game_state[\"dealer_cards\"].append(Card())\n",
        "      if game_state[\"dealer_cards\"][-1].color == \"R\":\n",
        "        game_state[\"dealer_sum\"] -= game_state[\"dealer_cards\"][-1].number\n",
        "\n",
        "      if game_state[\"dealer_cards\"][-1].color == \"B\":\n",
        "        game_state[\"dealer_sum\"] += game_state[\"dealer_cards\"][-1].number\n",
        "\n",
        "      next_state[0] = game_state[\"dealer_cards\"][-1].number\n",
        "\n",
        "    if(not (game_state[\"dealer_sum\"]<21 and game_state[\"dealer_sum\"] >1)):\n",
        "        game_state[\"terminal\"] = True\n",
        "        reward = 1\n",
        "\n",
        "    print(\"dealer\",game_state[\"dealer_cards\"],game_state[\"dealer_sum\"])\n",
        "\n",
        "  if game_state[\"player_sum\"]>game_state[\"dealer_sum\"]:\n",
        "    reward = 1\n",
        "  elif game_state[\"player_sum\"]<game_state[\"dealer_sum\"]:\n",
        "    reward = -1\n",
        "\n",
        "  return next_state, reward"
      ],
      "metadata": {
        "id": "HEqYhxmOPmk4"
      },
      "execution_count": 55,
      "outputs": []
    },
    {
      "cell_type": "code",
      "source": [
        "def epsilon_greedy(Q,N,state):\n",
        "  dealer,player = state\n",
        "  epsilon = 100/100+N[dealer-1,player-1]\n",
        "  if epsilon.all() < (1-random.random()):\n",
        "     if np.argmax(Q[dealer-1,player-1,:]) == 1:\n",
        "        action = 'h'\n",
        "     else:\n",
        "      action = 's'\n",
        "  else:\n",
        "    action = random.choice(['h','s'])\n",
        "\n",
        "  return action"
      ],
      "metadata": {
        "id": "E-HZu-tDkBM0"
      },
      "execution_count": 26,
      "outputs": []
    },
    {
      "cell_type": "code",
      "source": [
        "#Monte Carlo Algoooooo\n",
        "def monte_carlo():\n",
        "  Q = np.zeros((10,21,2))\n",
        "  N = np.zeros((10,21,2))\n",
        "\n",
        "  for episode in range(1,100):\n",
        "    E = []\n",
        "    state = [game_state['dealer_cards'][0].number,game_state['player_sum']]\n",
        "\n",
        "    while(not game_state['terminal']):\n",
        "      action = epsilon_greedy(Q,N,state)\n",
        "      state_, reward = env(action)\n",
        "      if action == 'h':\n",
        "        E.append([state,1,reward])\n",
        "      else:\n",
        "        E.append([state,0,reward])\n",
        "      state = state_\n",
        "\n",
        "    for (dealer,player),action,reward in E:\n",
        "      N[dealer-1][player-1][action]+=1\n",
        "      Q[dealer-1][player-1][action] += (1/N[dealer-1][player-1][action])*(reward - Q[dealer-1][player-1][action])\n",
        "    print(episode)\n",
        "    print(Q)\n",
        "  return Q"
      ],
      "metadata": {
        "id": "qpIk9JbTnDM0"
      },
      "execution_count": 32,
      "outputs": []
    },
    {
      "cell_type": "code",
      "source": [
        "val_func = monte_carlo()\n"
      ],
      "metadata": {
        "colab": {
          "base_uri": "https://localhost:8080/",
          "height": 323
        },
        "id": "wknD7YxRxT7S",
        "outputId": "1b5449ec-7a4f-4b63-9b06-dc00b5d15581"
      },
      "execution_count": null,
      "outputs": [
        {
          "output_type": "error",
          "ename": "KeyboardInterrupt",
          "evalue": "ignored",
          "traceback": [
            "\u001b[0;31m---------------------------------------------------------------------------\u001b[0m",
            "\u001b[0;31mKeyboardInterrupt\u001b[0m                         Traceback (most recent call last)",
            "\u001b[0;32m<ipython-input-18-76402ea3ea5c>\u001b[0m in \u001b[0;36m<cell line: 1>\u001b[0;34m()\u001b[0m\n\u001b[0;32m----> 1\u001b[0;31m \u001b[0mval_func\u001b[0m \u001b[0;34m=\u001b[0m \u001b[0mmonte_carlo\u001b[0m\u001b[0;34m(\u001b[0m\u001b[0;34m)\u001b[0m\u001b[0;34m\u001b[0m\u001b[0;34m\u001b[0m\u001b[0m\n\u001b[0m",
            "\u001b[0;32m<ipython-input-16-37bc74cb126a>\u001b[0m in \u001b[0;36mmonte_carlo\u001b[0;34m()\u001b[0m\n\u001b[1;32m      9\u001b[0m \u001b[0;34m\u001b[0m\u001b[0m\n\u001b[1;32m     10\u001b[0m     \u001b[0;32mwhile\u001b[0m\u001b[0;34m(\u001b[0m\u001b[0;32mnot\u001b[0m \u001b[0mgame_state\u001b[0m\u001b[0;34m[\u001b[0m\u001b[0;34m'terminal'\u001b[0m\u001b[0;34m]\u001b[0m\u001b[0;34m)\u001b[0m\u001b[0;34m:\u001b[0m\u001b[0;34m\u001b[0m\u001b[0;34m\u001b[0m\u001b[0m\n\u001b[0;32m---> 11\u001b[0;31m       \u001b[0maction\u001b[0m \u001b[0;34m=\u001b[0m \u001b[0mepsilon_greedy\u001b[0m\u001b[0;34m(\u001b[0m\u001b[0mQ\u001b[0m\u001b[0;34m,\u001b[0m\u001b[0mN\u001b[0m\u001b[0;34m,\u001b[0m\u001b[0mstate\u001b[0m\u001b[0;34m)\u001b[0m\u001b[0;34m\u001b[0m\u001b[0;34m\u001b[0m\u001b[0m\n\u001b[0m\u001b[1;32m     12\u001b[0m       \u001b[0mstate_\u001b[0m\u001b[0;34m,\u001b[0m \u001b[0mreward\u001b[0m \u001b[0;34m=\u001b[0m \u001b[0menv\u001b[0m\u001b[0;34m(\u001b[0m\u001b[0maction\u001b[0m\u001b[0;34m)\u001b[0m\u001b[0;34m\u001b[0m\u001b[0;34m\u001b[0m\u001b[0m\n\u001b[1;32m     13\u001b[0m       \u001b[0;32mif\u001b[0m \u001b[0maction\u001b[0m \u001b[0;34m==\u001b[0m \u001b[0;34m'h'\u001b[0m\u001b[0;34m:\u001b[0m\u001b[0;34m\u001b[0m\u001b[0;34m\u001b[0m\u001b[0m\n",
            "\u001b[0;32m<ipython-input-15-35dd8907eb34>\u001b[0m in \u001b[0;36mepsilon_greedy\u001b[0;34m(Q, N, state)\u001b[0m\n\u001b[1;32m      8\u001b[0m       \u001b[0maction\u001b[0m \u001b[0;34m=\u001b[0m \u001b[0;34m's'\u001b[0m\u001b[0;34m\u001b[0m\u001b[0;34m\u001b[0m\u001b[0m\n\u001b[1;32m      9\u001b[0m   \u001b[0;32melse\u001b[0m\u001b[0;34m:\u001b[0m\u001b[0;34m\u001b[0m\u001b[0;34m\u001b[0m\u001b[0m\n\u001b[0;32m---> 10\u001b[0;31m     \u001b[0maction\u001b[0m \u001b[0;34m=\u001b[0m \u001b[0mrandom\u001b[0m\u001b[0;34m.\u001b[0m\u001b[0mchoice\u001b[0m\u001b[0;34m(\u001b[0m\u001b[0;34m[\u001b[0m\u001b[0;34m'h'\u001b[0m\u001b[0;34m,\u001b[0m\u001b[0;34m's'\u001b[0m\u001b[0;34m]\u001b[0m\u001b[0;34m)\u001b[0m\u001b[0;34m\u001b[0m\u001b[0;34m\u001b[0m\u001b[0m\n\u001b[0m\u001b[1;32m     11\u001b[0m \u001b[0;34m\u001b[0m\u001b[0m\n\u001b[1;32m     12\u001b[0m   \u001b[0;32mreturn\u001b[0m \u001b[0maction\u001b[0m\u001b[0;34m\u001b[0m\u001b[0;34m\u001b[0m\u001b[0m\n",
            "\u001b[0;32m/usr/lib/python3.10/random.py\u001b[0m in \u001b[0;36mchoice\u001b[0;34m(self, seq)\u001b[0m\n\u001b[1;32m    376\u001b[0m         \u001b[0;34m\"\"\"Choose a random element from a non-empty sequence.\"\"\"\u001b[0m\u001b[0;34m\u001b[0m\u001b[0;34m\u001b[0m\u001b[0m\n\u001b[1;32m    377\u001b[0m         \u001b[0;31m# raises IndexError if seq is empty\u001b[0m\u001b[0;34m\u001b[0m\u001b[0;34m\u001b[0m\u001b[0m\n\u001b[0;32m--> 378\u001b[0;31m         \u001b[0;32mreturn\u001b[0m \u001b[0mseq\u001b[0m\u001b[0;34m[\u001b[0m\u001b[0mself\u001b[0m\u001b[0;34m.\u001b[0m\u001b[0m_randbelow\u001b[0m\u001b[0;34m(\u001b[0m\u001b[0mlen\u001b[0m\u001b[0;34m(\u001b[0m\u001b[0mseq\u001b[0m\u001b[0;34m)\u001b[0m\u001b[0;34m)\u001b[0m\u001b[0;34m]\u001b[0m\u001b[0;34m\u001b[0m\u001b[0;34m\u001b[0m\u001b[0m\n\u001b[0m\u001b[1;32m    379\u001b[0m \u001b[0;34m\u001b[0m\u001b[0m\n\u001b[1;32m    380\u001b[0m     \u001b[0;32mdef\u001b[0m \u001b[0mshuffle\u001b[0m\u001b[0;34m(\u001b[0m\u001b[0mself\u001b[0m\u001b[0;34m,\u001b[0m \u001b[0mx\u001b[0m\u001b[0;34m,\u001b[0m \u001b[0mrandom\u001b[0m\u001b[0;34m=\u001b[0m\u001b[0;32mNone\u001b[0m\u001b[0;34m)\u001b[0m\u001b[0;34m:\u001b[0m\u001b[0;34m\u001b[0m\u001b[0;34m\u001b[0m\u001b[0m\n",
            "\u001b[0;32m/usr/lib/python3.10/random.py\u001b[0m in \u001b[0;36m_randbelow_with_getrandbits\u001b[0;34m(self, n)\u001b[0m\n\u001b[1;32m    243\u001b[0m             \u001b[0;32mreturn\u001b[0m \u001b[0;36m0\u001b[0m\u001b[0;34m\u001b[0m\u001b[0;34m\u001b[0m\u001b[0m\n\u001b[1;32m    244\u001b[0m         \u001b[0mgetrandbits\u001b[0m \u001b[0;34m=\u001b[0m \u001b[0mself\u001b[0m\u001b[0;34m.\u001b[0m\u001b[0mgetrandbits\u001b[0m\u001b[0;34m\u001b[0m\u001b[0;34m\u001b[0m\u001b[0m\n\u001b[0;32m--> 245\u001b[0;31m         \u001b[0mk\u001b[0m \u001b[0;34m=\u001b[0m \u001b[0mn\u001b[0m\u001b[0;34m.\u001b[0m\u001b[0mbit_length\u001b[0m\u001b[0;34m(\u001b[0m\u001b[0;34m)\u001b[0m  \u001b[0;31m# don't use (n-1) here because n can be 1\u001b[0m\u001b[0;34m\u001b[0m\u001b[0;34m\u001b[0m\u001b[0m\n\u001b[0m\u001b[1;32m    246\u001b[0m         \u001b[0mr\u001b[0m \u001b[0;34m=\u001b[0m \u001b[0mgetrandbits\u001b[0m\u001b[0;34m(\u001b[0m\u001b[0mk\u001b[0m\u001b[0;34m)\u001b[0m  \u001b[0;31m# 0 <= r < 2**k\u001b[0m\u001b[0;34m\u001b[0m\u001b[0;34m\u001b[0m\u001b[0m\n\u001b[1;32m    247\u001b[0m         \u001b[0;32mwhile\u001b[0m \u001b[0mr\u001b[0m \u001b[0;34m>=\u001b[0m \u001b[0mn\u001b[0m\u001b[0;34m:\u001b[0m\u001b[0;34m\u001b[0m\u001b[0;34m\u001b[0m\u001b[0m\n",
            "\u001b[0;31mKeyboardInterrupt\u001b[0m: "
          ]
        }
      ]
    },
    {
      "cell_type": "code",
      "source": [
        "while(not game_state['terminal']):\n",
        "  action = str(input())\n",
        "  env(action)"
      ],
      "metadata": {
        "colab": {
          "base_uri": "https://localhost:8080/",
          "height": 689
        },
        "id": "osEaIjbZ2VFn",
        "outputId": "a7531594-439f-4304-ee96-b93a24696026"
      },
      "execution_count": 56,
      "outputs": [
        {
          "output_type": "stream",
          "name": "stdout",
          "text": [
            "h\n",
            "player [B, 6, B, 3] 9\n",
            "s\n",
            "player [B, 6, B, 3] 9\n",
            "s\n",
            "dealer [B, 8, B, 3] 11\n",
            "s\n",
            "dealer [B, 8, B, 3, B, 5] 16\n",
            "s\n",
            "dealer [B, 8, B, 3, B, 5, B, 3] 19\n",
            "s\n",
            "dealer [B, 8, B, 3, B, 5, B, 3] 19\n",
            "s\n",
            "dealer [B, 8, B, 3, B, 5, B, 3] 19\n",
            "s\n",
            "dealer [B, 8, B, 3, B, 5, B, 3] 19\n",
            "s\n",
            "dealer [B, 8, B, 3, B, 5, B, 3] 19\n"
          ]
        },
        {
          "output_type": "error",
          "ename": "KeyboardInterrupt",
          "evalue": "ignored",
          "traceback": [
            "\u001b[0;31m---------------------------------------------------------------------------\u001b[0m",
            "\u001b[0;31mKeyboardInterrupt\u001b[0m                         Traceback (most recent call last)",
            "\u001b[0;32m<ipython-input-56-dd19c76e882e>\u001b[0m in \u001b[0;36m<cell line: 1>\u001b[0;34m()\u001b[0m\n\u001b[1;32m      1\u001b[0m \u001b[0;32mwhile\u001b[0m\u001b[0;34m(\u001b[0m\u001b[0;32mnot\u001b[0m \u001b[0mgame_state\u001b[0m\u001b[0;34m[\u001b[0m\u001b[0;34m'terminal'\u001b[0m\u001b[0;34m]\u001b[0m\u001b[0;34m)\u001b[0m\u001b[0;34m:\u001b[0m\u001b[0;34m\u001b[0m\u001b[0;34m\u001b[0m\u001b[0m\n\u001b[0;32m----> 2\u001b[0;31m   \u001b[0maction\u001b[0m \u001b[0;34m=\u001b[0m \u001b[0mstr\u001b[0m\u001b[0;34m(\u001b[0m\u001b[0minput\u001b[0m\u001b[0;34m(\u001b[0m\u001b[0;34m)\u001b[0m\u001b[0;34m)\u001b[0m\u001b[0;34m\u001b[0m\u001b[0;34m\u001b[0m\u001b[0m\n\u001b[0m\u001b[1;32m      3\u001b[0m   \u001b[0menv\u001b[0m\u001b[0;34m(\u001b[0m\u001b[0maction\u001b[0m\u001b[0;34m)\u001b[0m\u001b[0;34m\u001b[0m\u001b[0;34m\u001b[0m\u001b[0m\n",
            "\u001b[0;32m/usr/local/lib/python3.10/dist-packages/ipykernel/kernelbase.py\u001b[0m in \u001b[0;36mraw_input\u001b[0;34m(self, prompt)\u001b[0m\n\u001b[1;32m    849\u001b[0m                 \u001b[0;34m\"raw_input was called, but this frontend does not support input requests.\"\u001b[0m\u001b[0;34m\u001b[0m\u001b[0;34m\u001b[0m\u001b[0m\n\u001b[1;32m    850\u001b[0m             )\n\u001b[0;32m--> 851\u001b[0;31m         return self._input_request(str(prompt),\n\u001b[0m\u001b[1;32m    852\u001b[0m             \u001b[0mself\u001b[0m\u001b[0;34m.\u001b[0m\u001b[0m_parent_ident\u001b[0m\u001b[0;34m,\u001b[0m\u001b[0;34m\u001b[0m\u001b[0;34m\u001b[0m\u001b[0m\n\u001b[1;32m    853\u001b[0m             \u001b[0mself\u001b[0m\u001b[0;34m.\u001b[0m\u001b[0m_parent_header\u001b[0m\u001b[0;34m,\u001b[0m\u001b[0;34m\u001b[0m\u001b[0;34m\u001b[0m\u001b[0m\n",
            "\u001b[0;32m/usr/local/lib/python3.10/dist-packages/ipykernel/kernelbase.py\u001b[0m in \u001b[0;36m_input_request\u001b[0;34m(self, prompt, ident, parent, password)\u001b[0m\n\u001b[1;32m    893\u001b[0m             \u001b[0;32mexcept\u001b[0m \u001b[0mKeyboardInterrupt\u001b[0m\u001b[0;34m:\u001b[0m\u001b[0;34m\u001b[0m\u001b[0;34m\u001b[0m\u001b[0m\n\u001b[1;32m    894\u001b[0m                 \u001b[0;31m# re-raise KeyboardInterrupt, to truncate traceback\u001b[0m\u001b[0;34m\u001b[0m\u001b[0;34m\u001b[0m\u001b[0m\n\u001b[0;32m--> 895\u001b[0;31m                 \u001b[0;32mraise\u001b[0m \u001b[0mKeyboardInterrupt\u001b[0m\u001b[0;34m(\u001b[0m\u001b[0;34m\"Interrupted by user\"\u001b[0m\u001b[0;34m)\u001b[0m \u001b[0;32mfrom\u001b[0m \u001b[0;32mNone\u001b[0m\u001b[0;34m\u001b[0m\u001b[0;34m\u001b[0m\u001b[0m\n\u001b[0m\u001b[1;32m    896\u001b[0m             \u001b[0;32mexcept\u001b[0m \u001b[0mException\u001b[0m \u001b[0;32mas\u001b[0m \u001b[0me\u001b[0m\u001b[0;34m:\u001b[0m\u001b[0;34m\u001b[0m\u001b[0;34m\u001b[0m\u001b[0m\n\u001b[1;32m    897\u001b[0m                 \u001b[0mself\u001b[0m\u001b[0;34m.\u001b[0m\u001b[0mlog\u001b[0m\u001b[0;34m.\u001b[0m\u001b[0mwarning\u001b[0m\u001b[0;34m(\u001b[0m\u001b[0;34m\"Invalid Message:\"\u001b[0m\u001b[0;34m,\u001b[0m \u001b[0mexc_info\u001b[0m\u001b[0;34m=\u001b[0m\u001b[0;32mTrue\u001b[0m\u001b[0;34m)\u001b[0m\u001b[0;34m\u001b[0m\u001b[0;34m\u001b[0m\u001b[0m\n",
            "\u001b[0;31mKeyboardInterrupt\u001b[0m: Interrupted by user"
          ]
        }
      ]
    }
  ]
}